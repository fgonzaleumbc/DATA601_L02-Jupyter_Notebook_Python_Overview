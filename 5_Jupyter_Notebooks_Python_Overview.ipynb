{
 "cells": [
  {
   "cell_type": "markdown",
   "id": "43a50f95",
   "metadata": {},
   "source": [
    "<div class=\"alert alert-block alert-info\">\n",
    "Author:<br>Felix Gonzalez, P.E. <br> Adjunct Instructor, <br> Division of Professional Studies <br> Computer Science and Electrical Engineering <br> University of Maryland Baltimore County <br> fgonzale@umbc.edu\n",
    "</div>"
   ]
  },
  {
   "cell_type": "markdown",
   "id": "67cf5ec0",
   "metadata": {},
   "source": [
    "This notebook provides an overview of some basic concepts in Python Programming Language and Jupyter Notebooks. Python is an object-oriented, high-level programming language with integrated dynamic semantics primarily for web and app development. Is relatively simple, it's easy to learn since it requires a unique syntax that focuses on readability. Supports the use of modules and packages, programs can be designed in a modular style and code can be reused across a variety of projects. Other characteristics include:\n",
    "\n",
    "- Open source/free: no need to worry about licences,\n",
    "- Cross-platform: Can be used with Windows/Macs OS/Linux – even Android and iOS!\n",
    "- Full-featured Packages: If there’s something you want to do, there’s probably a package out there to help you\n",
    "- Code Portability: With most code, it can run unaltered on a plethora of computers so long as all the required modules are supplied\n",
    "- Large and Growing Community: People from all fields from Data Science to Physics are coding in Python, creating a diverse and rich community of experts all over.\n",
    "\n",
    "Jupyter Notebooks (https://jupyter.org/) is a graphical user interface that runs in a web browser and can run Python and other programming languages. Is a tool used in data science to perform and document data analyses. It helps in running code within cells, documenting results, sharing code and results, among other things.\n",
    "\n",
    "Python Documentation canb e found at https://docs.python.org. Python community also maintains a proposed enhanced proposal at https://peps.python.org/."
   ]
  },
  {
   "cell_type": "markdown",
   "id": "c7a0dfbd",
   "metadata": {},
   "source": [
    "# Table of Contents\n",
    "[Tips and Shortcuts](#Tips-and-Shortcuts)\n",
    "\n",
    "[Objects](#Objects)\n",
    "\n",
    "[Functions](#Functions)\n",
    "\n",
    "[Jupyter Notebook Magic Commands](#Jupyter-Notebook-Magic-Commands)\n",
    "\n",
    "[Variables](#Variables)\n",
    "\n",
    "[Variable Naming Conventions and Naming Styles](#Variable-Naming-Conventions-and-Naming-Styles)\n",
    "\n",
    "[Operations with Variables](#Operations-with-Variables)\n",
    "\n",
    "[CASTING: Specifying Data Type](#CASTING:-Specifying-Data-Type)\n",
    "\n",
    "[Working With Strings](#Working-With-Strings)\n",
    "\n",
    "[Command-line String Input() Function](#Command-line-String-Input()-Function)\n",
    "\n",
    "[Arithmetic Operators](#Arithmetic-Operators)\n",
    "\n",
    "[Lambda Expressions](#Lambda-Expressions)\n",
    "\n",
    "[Conditions, Logical Operators, If statements and Loops](#Conditions,-Logical-Operators,-If-statements-and-Loops)\n",
    "\n",
    "[Modules, Packages, and Libraries](#Modules,-Packages,-and-Libraries)\n",
    "\n",
    "[Modules: Importing](#Modules:-Importing)\n",
    "\n",
    "[Modules: Installing](#Modules:-Installing)"
   ]
  },
  {
   "cell_type": "markdown",
   "id": "058cc812",
   "metadata": {},
   "source": [
    "# Tips and Shortcuts\n",
    "[Return to Table of Contents](#Table-of-Contents)\n",
    "\n",
    "Depending on the platform (e.g., Jupyter Notebook, Windows, Mac, Linux, Google Colab, VS Studio Code, Anaconda Cloud, etc.) that you are opening the Jupyter Notebook, some shortcuts may vary."
   ]
  },
  {
   "cell_type": "markdown",
   "id": "9b0de722",
   "metadata": {},
   "source": [
    "#### Important Tips:\n",
    "- There are various types of Cells in Jupyter Notebooks with the most used being:\n",
    "    - \"Markdown\" cell you can put text with explanations\n",
    "    - \"Code\" cell allows you to write Python code and run it.\n",
    "- To edit a Jupyter Notebook cell double click.\n",
    "- Be careful with quotes especially when handling Text and Strings. In Python dobule quotes \"\" or single quotes ' ' can be used in various functions. However, they need to be alternated when they are used within a function that requires them. More on this later. \n",
    "- <b><u>DOCUMENTATION</u></b> of a module/library/packages will be extremely important. During the class we will be using various Python libraries and accessing the documentation to learn about the included functions and parameters. The base Python documentation can be found at: https://docs.python.org/3/contents.html.\n",
    "- Python Style Guide: https://peps.python.org/pep-0008/\n",
    "\n",
    "#### Most Useful Jupyter Notebook Shortcuts\n",
    "- Shift+Tab: Access <b><u>documentation</u></b> of a function. \n",
    "- Ctrl+S: Saves and creates checkpoint of the notebook.\n",
    "- Shift+enter: Runs a cell.\n",
    "\n",
    "#### Accessing Documentation:\n",
    "Documentation can be accessed in various ways that will be discussed in more detail during the class.\n",
    "- The documentation of a Module/Library/Package and their functions is published by the developer in their website. Note that <b><u>documentation</u></b> quality may vary from library to library.\n",
    "- Shift+Tab with the coursr placed inside the function parenthesis.\n",
    "- help() function, with the name of the funciton inside the parenthesis.\n",
    "\n",
    "\n",
    "####  Commenting\n",
    "Allows you to add a comment within a Code cell. The comment does not run code and is used for documentation purposes."
   ]
  },
  {
   "cell_type": "code",
   "execution_count": 1,
   "id": "f4f09a84",
   "metadata": {},
   "outputs": [],
   "source": [
    "# In a cell, when you put the \"#\" character, the rest is accepted as comment\n",
    "# This is a comment\n",
    "# This is another comment."
   ]
  },
  {
   "cell_type": "code",
   "execution_count": 2,
   "id": "170541e3",
   "metadata": {},
   "outputs": [
    {
     "data": {
      "text/plain": [
       "'\\nThis text is in a comment \\nSo is this text\\nText text text text\\nComment comment comment\\n'"
      ]
     },
     "execution_count": 2,
     "metadata": {},
     "output_type": "execute_result"
    }
   ],
   "source": [
    "# If you are going to write a long comment, you don't have to put # in the beginning of each line.\n",
    "# you can use the following option (called \"docstring\")\n",
    "# which is also very useful if you are going to copy and paste\n",
    "# some long text\n",
    "'''\n",
    "This text is in a comment \n",
    "So is this text\n",
    "Text text text text\n",
    "Comment comment comment\n",
    "'''"
   ]
  },
  {
   "cell_type": "markdown",
   "id": "7e14ed48",
   "metadata": {},
   "source": [
    "# Objects\n",
    "[Return to Table of Contents](#Table-of-Contents)\n",
    "\n",
    "Objects are chunks of code that are wrapped up in a particular way. One thing this format enables is the attaching of labels to them to create variables. Objects can have their own functions and variables, so you can have variables inside other variables. Objects generally do some particular job. Objects can be lists, dictionaries, functions, instance of classes, etc.\n",
    "\n",
    "References:\n",
    "- https://docs.python.org/3/tutorial/classes.html#a-word-about-names-and-objects"
   ]
  },
  {
   "cell_type": "markdown",
   "id": "139b9a22",
   "metadata": {},
   "source": [
    "# Functions\n",
    "[Return to Table of Contents](#Table-of-Contents)\n",
    "\n",
    "Functions are code that perform a task. The function round(number, ndigits=None) has two parameters, (1) number and (2) ndigits. The \"number\" is the number that we wish to round while the ndigits is the precision in decimal digits. See below for example on the round() function. When analyzing data, the main goal is to be able to select the needed combination of functions that allows us to clean and transform the data, show visualizations, run a model and other tasks.\n",
    "\n",
    "List of the base Python built in functions can be found at: https://docs.python.org/3/library/functions.html."
   ]
  },
  {
   "cell_type": "code",
   "execution_count": 3,
   "id": "25fb3682",
   "metadata": {},
   "outputs": [
    {
     "data": {
      "text/plain": [
       "2.43"
      ]
     },
     "execution_count": 3,
     "metadata": {},
     "output_type": "execute_result"
    }
   ],
   "source": [
    "round(number = 2.432442, ndigits = 2)\n",
    "# Putting the cursor within the parenthesis of the function and Shift+Tab shows the function documentations. "
   ]
  },
  {
   "cell_type": "code",
   "execution_count": 4,
   "id": "73081e16",
   "metadata": {},
   "outputs": [
    {
     "data": {
      "text/plain": [
       "2.43"
      ]
     },
     "execution_count": 4,
     "metadata": {},
     "output_type": "execute_result"
    }
   ],
   "source": [
    "# Note that the parameters can be ommited and the function will work as long as the values are in the required location.\n",
    "round(2.432442, 2)"
   ]
  },
  {
   "cell_type": "code",
   "execution_count": 5,
   "id": "c95087f2",
   "metadata": {},
   "outputs": [
    {
     "name": "stdout",
     "output_type": "stream",
     "text": [
      "Help on built-in function round in module builtins:\n",
      "\n",
      "round(number, ndigits=None)\n",
      "    Round a number to a given precision in decimal digits.\n",
      "\n",
      "    The return value is an integer if ndigits is omitted or None.  Otherwise\n",
      "    the return value has the same type as the number.  ndigits may be negative.\n",
      "\n"
     ]
    }
   ],
   "source": [
    "help(round) # The help function is similar to the \"Shift-Tab\" but prints the documentation. "
   ]
  },
  {
   "cell_type": "markdown",
   "id": "981afc7e",
   "metadata": {},
   "source": [
    "# Jupyter Notebook Magic Commands\n",
    "[Return to Table of Contents](#Table-of-Contents)\n",
    "\n",
    "Jupyter Notebooks have specific \"Magic\" commands that perform a set of tasks and only work within the Jupyter Notebook environment. Magic commands are commands that are commonly used and may require multiple lines of code and functions to develop in Python code. \n",
    "\n",
    "The command start with '%' called Line Magics for single line commands or '%%' called Cell Magics for multi-line commands. The list of all magic commands can be found at: https://ipython.readthedocs.io/en/stable/interactive/magics.html. Most common Magic Commands include:\n",
    "- %lsmagic \n",
    "- %%time \n",
    "- %who \n",
    "- %who str\n",
    "- %who int\n",
    "- %pinfo\n",
    "- %env\n",
    "- %run\n",
    "- %load\n",
    "- %%writefile\n",
    "- %matplotlib inline\n",
    "- %matplotlib widget\n",
    "\n",
    "The cells below provide some examples on using some of the magic commands."
   ]
  },
  {
   "cell_type": "code",
   "execution_count": 6,
   "id": "16adc907",
   "metadata": {},
   "outputs": [
    {
     "data": {
      "application/json": {
       "cell": {
        "!": "OSMagics",
        "HTML": "Other",
        "SVG": "Other",
        "bash": "Other",
        "capture": "ExecutionMagics",
        "cmd": "Other",
        "code_wrap": "ExecutionMagics",
        "debug": "ExecutionMagics",
        "file": "Other",
        "html": "DisplayMagics",
        "javascript": "DisplayMagics",
        "js": "DisplayMagics",
        "latex": "DisplayMagics",
        "markdown": "DisplayMagics",
        "perl": "Other",
        "prun": "ExecutionMagics",
        "pypy": "Other",
        "python": "Other",
        "python2": "Other",
        "python3": "Other",
        "ruby": "Other",
        "script": "ScriptMagics",
        "sh": "Other",
        "svg": "DisplayMagics",
        "sx": "OSMagics",
        "system": "OSMagics",
        "time": "ExecutionMagics",
        "timeit": "ExecutionMagics",
        "writefile": "OSMagics"
       },
       "line": {
        "alias": "OSMagics",
        "alias_magic": "BasicMagics",
        "autoawait": "AsyncMagics",
        "autocall": "AutoMagics",
        "automagic": "AutoMagics",
        "autosave": "KernelMagics",
        "bookmark": "OSMagics",
        "cd": "OSMagics",
        "clear": "KernelMagics",
        "cls": "KernelMagics",
        "code_wrap": "ExecutionMagics",
        "colors": "BasicMagics",
        "conda": "PackagingMagics",
        "config": "ConfigMagics",
        "connect_info": "KernelMagics",
        "copy": "Other",
        "ddir": "Other",
        "debug": "ExecutionMagics",
        "dhist": "OSMagics",
        "dirs": "OSMagics",
        "doctest_mode": "BasicMagics",
        "echo": "Other",
        "ed": "Other",
        "edit": "KernelMagics",
        "env": "OSMagics",
        "gui": "BasicMagics",
        "hist": "Other",
        "history": "HistoryMagics",
        "killbgscripts": "ScriptMagics",
        "ldir": "Other",
        "less": "KernelMagics",
        "load": "CodeMagics",
        "load_ext": "ExtensionMagics",
        "loadpy": "CodeMagics",
        "logoff": "LoggingMagics",
        "logon": "LoggingMagics",
        "logstart": "LoggingMagics",
        "logstate": "LoggingMagics",
        "logstop": "LoggingMagics",
        "ls": "Other",
        "lsmagic": "BasicMagics",
        "macro": "ExecutionMagics",
        "magic": "BasicMagics",
        "mamba": "PackagingMagics",
        "matplotlib": "PylabMagics",
        "micromamba": "PackagingMagics",
        "mkdir": "Other",
        "more": "KernelMagics",
        "notebook": "BasicMagics",
        "page": "BasicMagics",
        "pastebin": "CodeMagics",
        "pdb": "ExecutionMagics",
        "pdef": "NamespaceMagics",
        "pdoc": "NamespaceMagics",
        "pfile": "NamespaceMagics",
        "pinfo": "NamespaceMagics",
        "pinfo2": "NamespaceMagics",
        "pip": "PackagingMagics",
        "popd": "OSMagics",
        "pprint": "BasicMagics",
        "precision": "BasicMagics",
        "prun": "ExecutionMagics",
        "psearch": "NamespaceMagics",
        "psource": "NamespaceMagics",
        "pushd": "OSMagics",
        "pwd": "OSMagics",
        "pycat": "OSMagics",
        "pylab": "PylabMagics",
        "qtconsole": "KernelMagics",
        "quickref": "BasicMagics",
        "recall": "HistoryMagics",
        "rehashx": "OSMagics",
        "reload_ext": "ExtensionMagics",
        "ren": "Other",
        "rep": "Other",
        "rerun": "HistoryMagics",
        "reset": "NamespaceMagics",
        "reset_selective": "NamespaceMagics",
        "rmdir": "Other",
        "run": "ExecutionMagics",
        "save": "CodeMagics",
        "sc": "OSMagics",
        "set_env": "OSMagics",
        "store": "StoreMagics",
        "sx": "OSMagics",
        "system": "OSMagics",
        "tb": "ExecutionMagics",
        "time": "ExecutionMagics",
        "timeit": "ExecutionMagics",
        "unalias": "OSMagics",
        "unload_ext": "ExtensionMagics",
        "uv": "PackagingMagics",
        "who": "NamespaceMagics",
        "who_ls": "NamespaceMagics",
        "whos": "NamespaceMagics",
        "xdel": "NamespaceMagics",
        "xmode": "BasicMagics"
       }
      },
      "text/plain": [
       "Available line magics:\n",
       "%alias  %alias_magic  %autoawait  %autocall  %automagic  %autosave  %bookmark  %cd  %clear  %cls  %code_wrap  %colors  %conda  %config  %connect_info  %copy  %ddir  %debug  %dhist  %dirs  %doctest_mode  %echo  %ed  %edit  %env  %gui  %hist  %history  %killbgscripts  %ldir  %less  %load  %load_ext  %loadpy  %logoff  %logon  %logstart  %logstate  %logstop  %ls  %lsmagic  %macro  %magic  %mamba  %matplotlib  %micromamba  %mkdir  %more  %notebook  %page  %pastebin  %pdb  %pdef  %pdoc  %pfile  %pinfo  %pinfo2  %pip  %popd  %pprint  %precision  %prun  %psearch  %psource  %pushd  %pwd  %pycat  %pylab  %qtconsole  %quickref  %recall  %rehashx  %reload_ext  %ren  %rep  %rerun  %reset  %reset_selective  %rmdir  %run  %save  %sc  %set_env  %store  %sx  %system  %tb  %time  %timeit  %unalias  %unload_ext  %uv  %who  %who_ls  %whos  %xdel  %xmode\n",
       "\n",
       "Available cell magics:\n",
       "%%!  %%HTML  %%SVG  %%bash  %%capture  %%cmd  %%code_wrap  %%debug  %%file  %%html  %%javascript  %%js  %%latex  %%markdown  %%perl  %%prun  %%pypy  %%python  %%python2  %%python3  %%ruby  %%script  %%sh  %%svg  %%sx  %%system  %%time  %%timeit  %%writefile\n",
       "\n",
       "Automagic is ON, % prefix IS NOT needed for line magics."
      ]
     },
     "execution_count": 6,
     "metadata": {},
     "output_type": "execute_result"
    }
   ],
   "source": [
    "%lsmagic\n",
    "# List of available magic commands."
   ]
  },
  {
   "cell_type": "code",
   "execution_count": 7,
   "id": "b68c2741",
   "metadata": {},
   "outputs": [
    {
     "name": "stdout",
     "output_type": "stream",
     "text": [
      "CPU times: total: 78.1 ms\n",
      "Wall time: 86.4 ms\n"
     ]
    }
   ],
   "source": [
    "%%time\n",
    "# Note that comments need to be put after the cell magic command.\n",
    "# In some cases we want to see how long it takes a code block to run.\n",
    "# When comparing various code blocks time to run is called benchmarking.\n",
    "# Benchmarking can help places where your code block takes too long and may provide opportunities for improvement.\n",
    "# %%time shows the amount of time a cell takes to run.\n",
    "i = 0\n",
    "# While loop iterates until the condition is met. More on this later.\n",
    "while i < 1000000: # Add or remove a 0 to perform sensitivy analysis on how long the code takes to iterate.\n",
    "    i = i + 1"
   ]
  },
  {
   "cell_type": "code",
   "execution_count": 8,
   "id": "3fd156e9",
   "metadata": {},
   "outputs": [],
   "source": [
    "# Definign variables for example below\n",
    "variable_1 = 5 # Integer\n",
    "variable_2 = 'hello' # Text String \n",
    "variable_3 = 50.1 # Float \n",
    "variable_4 = True # Boolean value"
   ]
  },
  {
   "cell_type": "code",
   "execution_count": 9,
   "id": "b6445b12",
   "metadata": {},
   "outputs": [
    {
     "name": "stdout",
     "output_type": "stream",
     "text": [
      "dataframe_columns\t dataframe_hash\t dtypes_str\t get_dataframes\t getpass\t hashlib\t i\t import_pandas_safely\t is_data_frame\t \n",
      "json\t variable_1\t variable_2\t variable_3\t variable_4\t \n"
     ]
    }
   ],
   "source": [
    "%who\n",
    "# Shows a list of all defined variables. \n",
    "# Until this point in the notebook only variable \"i\", and variables 1 thru 4 have been defined.\n",
    "# See next section for more information on variables."
   ]
  },
  {
   "cell_type": "code",
   "execution_count": 10,
   "id": "5d79f02d",
   "metadata": {},
   "outputs": [
    {
     "name": "stdout",
     "output_type": "stream",
     "text": [
      "variable_2\t \n"
     ]
    }
   ],
   "source": [
    "%who str\n",
    "# Shows list of defined variables that are text string.\n",
    "# Until this point in the notebook no string variables have been defined."
   ]
  },
  {
   "cell_type": "code",
   "execution_count": 11,
   "id": "aced44d9",
   "metadata": {},
   "outputs": [
    {
     "name": "stdout",
     "output_type": "stream",
     "text": [
      "i\t variable_1\t \n"
     ]
    }
   ],
   "source": [
    "%who int\n",
    "# Shows list of defined variables that are integers."
   ]
  },
  {
   "cell_type": "code",
   "execution_count": 12,
   "id": "36d19f00",
   "metadata": {},
   "outputs": [
    {
     "data": {
      "text/plain": [
       "\u001b[1;31mType:\u001b[0m        bool\n",
       "\u001b[1;31mString form:\u001b[0m True\n",
       "\u001b[1;31mDocstring:\u001b[0m  \n",
       "Returns True when the argument is true, False otherwise.\n",
       "The builtins True and False are the only two instances of the class bool.\n",
       "The class bool is a subclass of the class int, and cannot be subclassed."
      ]
     },
     "metadata": {},
     "output_type": "display_data"
    }
   ],
   "source": [
    "%pinfo variable_4\n",
    "# Prints information on the defined variable (i.e., variable 4)."
   ]
  },
  {
   "cell_type": "markdown",
   "id": "c8124ebc",
   "metadata": {},
   "source": [
    "# Built-in Types/Data Types\n",
    "\n",
    "There are various Built-in types that are built into the Python interpreter. Principal built-in types include numerics (e.g., integers, float, complex), sequences (e.g., list, range), mappings (e.g., dictionaries), text sequence (e.g., string), binary sequences (e.g., true/false), classes, instances, exceptions, among others. The documentation for built-in types can be found at: https://docs.python.org/3/library/stdtypes.html, and https://docs.python.org/3/library/datatypes.html.\n",
    "\n",
    "Note that other libraries, including base Python function type(), refer to data types as numeric (integer, float, complex), boolean (true/false), string, and datetime as the main data types and lists and dictionaries as data collections. \n",
    "\n",
    "The function type() can be used to check a the data type of a variable. The example below uses the previously generated variables."
   ]
  },
  {
   "cell_type": "code",
   "execution_count": 13,
   "id": "1dc6bcbe",
   "metadata": {},
   "outputs": [
    {
     "data": {
      "text/plain": [
       "int"
      ]
     },
     "execution_count": 13,
     "metadata": {},
     "output_type": "execute_result"
    }
   ],
   "source": [
    "type(variable_1)"
   ]
  },
  {
   "cell_type": "code",
   "execution_count": 14,
   "id": "916fe71d",
   "metadata": {},
   "outputs": [
    {
     "data": {
      "text/plain": [
       "str"
      ]
     },
     "execution_count": 14,
     "metadata": {},
     "output_type": "execute_result"
    }
   ],
   "source": [
    "type(variable_2)"
   ]
  },
  {
   "cell_type": "code",
   "execution_count": 15,
   "id": "657b8158",
   "metadata": {},
   "outputs": [
    {
     "data": {
      "text/plain": [
       "float"
      ]
     },
     "execution_count": 15,
     "metadata": {},
     "output_type": "execute_result"
    }
   ],
   "source": [
    "type(variable_3)"
   ]
  },
  {
   "cell_type": "code",
   "execution_count": 16,
   "id": "ed2fe203",
   "metadata": {},
   "outputs": [
    {
     "data": {
      "text/plain": [
       "bool"
      ]
     },
     "execution_count": 16,
     "metadata": {},
     "output_type": "execute_result"
    }
   ],
   "source": [
    "type(variable_4)"
   ]
  },
  {
   "cell_type": "markdown",
   "id": "b3641a7e",
   "metadata": {},
   "source": [
    "# Variables\n",
    "[Return to Table of Contents](#Table-of-Contents)\n",
    "\n",
    "The following overview is for Base Python functions. List of Python built-in functions can be found at: https://docs.python.org/3/library/functions.html.\n",
    "\n",
    "Unlike other programming languages, Python has no command for declaring a variable. Variables are the combination of an identifying label and a value, often a literal like 2 or \"hello world\". The label/identifier is attached to the value. A variable is created the moment you first assign a value to it. \n",
    "\n",
    "Variables are generally used to hold the result of calculations and user inputs. These are things we can't predict before the code is run. \n",
    "\n",
    "There is no need to declare any variable type before setting it. Python will detect the type (e.g., integer, float, string). They are called variables because you can change the value. Anything can be a variable in Python: \n",
    "- numbers, \n",
    "- strings, \n",
    "- functions,\n",
    "- modules, \n",
    "- chunks of code, \n",
    "- etcetera. "
   ]
  },
  {
   "cell_type": "code",
   "execution_count": 17,
   "id": "933b91ec",
   "metadata": {},
   "outputs": [],
   "source": [
    "x = 1\n",
    "y = 3.4\n",
    "z = 'UMBC'\n",
    "show = \"Game of Thrones\"\n",
    "Answer1 = True\n",
    "Answer2 = False"
   ]
  },
  {
   "cell_type": "code",
   "execution_count": 18,
   "id": "39c7f3a1",
   "metadata": {},
   "outputs": [
    {
     "name": "stdout",
     "output_type": "stream",
     "text": [
      "1\n"
     ]
    }
   ],
   "source": [
    "# I can access the variable with the print function.\n",
    "print(x) # With the cursor in the parenthesis Try \"shift+tab\" to access the print function documentation."
   ]
  },
  {
   "cell_type": "code",
   "execution_count": 19,
   "id": "04e9d303",
   "metadata": {},
   "outputs": [
    {
     "data": {
      "text/plain": [
       "1"
      ]
     },
     "execution_count": 19,
     "metadata": {},
     "output_type": "execute_result"
    }
   ],
   "source": [
    "# I can access the \"x\" value by putting:\n",
    "x # We will later note that the output of the print() function is a Nonetype Object vs. in this case is an integer."
   ]
  },
  {
   "cell_type": "code",
   "execution_count": 20,
   "id": "e03e5845",
   "metadata": {},
   "outputs": [
    {
     "name": "stdout",
     "output_type": "stream",
     "text": [
      "3.4\n"
     ]
    },
    {
     "data": {
      "text/plain": [
       "NoneType"
      ]
     },
     "execution_count": 20,
     "metadata": {},
     "output_type": "execute_result"
    }
   ],
   "source": [
    "type(print(y))"
   ]
  },
  {
   "cell_type": "code",
   "execution_count": 21,
   "id": "01a5e646-a94d-4f27-880d-b542428cfff3",
   "metadata": {},
   "outputs": [
    {
     "data": {
      "text/plain": [
       "float"
      ]
     },
     "execution_count": 21,
     "metadata": {},
     "output_type": "execute_result"
    }
   ],
   "source": [
    "type(y)"
   ]
  },
  {
   "cell_type": "code",
   "execution_count": 22,
   "id": "9624b63d",
   "metadata": {},
   "outputs": [
    {
     "name": "stdout",
     "output_type": "stream",
     "text": [
      "UMBC\n"
     ]
    }
   ],
   "source": [
    "print(z)"
   ]
  },
  {
   "cell_type": "code",
   "execution_count": 23,
   "id": "f9c74d13",
   "metadata": {},
   "outputs": [
    {
     "data": {
      "text/plain": [
       "'UMBC'"
      ]
     },
     "execution_count": 23,
     "metadata": {},
     "output_type": "execute_result"
    }
   ],
   "source": [
    "z"
   ]
  },
  {
   "cell_type": "code",
   "execution_count": 24,
   "id": "3eec59c7",
   "metadata": {},
   "outputs": [
    {
     "name": "stdout",
     "output_type": "stream",
     "text": [
      "Game of Thrones\n"
     ]
    }
   ],
   "source": [
    "print(show)"
   ]
  },
  {
   "cell_type": "code",
   "execution_count": 25,
   "id": "0d19987a",
   "metadata": {},
   "outputs": [
    {
     "name": "stdout",
     "output_type": "stream",
     "text": [
      "True\n"
     ]
    }
   ],
   "source": [
    "print(Answer1)"
   ]
  },
  {
   "cell_type": "code",
   "execution_count": 26,
   "id": "6d924ac6",
   "metadata": {},
   "outputs": [
    {
     "name": "stdout",
     "output_type": "stream",
     "text": [
      "False\n"
     ]
    }
   ],
   "source": [
    "print(Answer2)"
   ]
  },
  {
   "cell_type": "markdown",
   "id": "5a0d54c4",
   "metadata": {},
   "source": [
    "Note that x is an integer, and y is a float. z and show variables are strings. Answer1 and Answer2 variables are Booleans. To check we can use the type() function.\n",
    "\n",
    "Reference:\n",
    "- Python Interpreter Types: https://docs.python.org/3/library/types.html#Standard%20Interpreter%20Types"
   ]
  },
  {
   "cell_type": "code",
   "execution_count": 27,
   "id": "a7ccb513",
   "metadata": {},
   "outputs": [
    {
     "name": "stdout",
     "output_type": "stream",
     "text": [
      "1\n"
     ]
    },
    {
     "data": {
      "text/plain": [
       "NoneType"
      ]
     },
     "execution_count": 27,
     "metadata": {},
     "output_type": "execute_result"
    }
   ],
   "source": [
    "type(print(x)) # Note that the output of print() function is a \"Nonetype\"."
   ]
  },
  {
   "cell_type": "code",
   "execution_count": 28,
   "id": "524424e5",
   "metadata": {},
   "outputs": [
    {
     "data": {
      "text/plain": [
       "int"
      ]
     },
     "execution_count": 28,
     "metadata": {},
     "output_type": "execute_result"
    }
   ],
   "source": [
    "type(x)"
   ]
  },
  {
   "cell_type": "code",
   "execution_count": 29,
   "id": "7a899338",
   "metadata": {},
   "outputs": [
    {
     "data": {
      "text/plain": [
       "float"
      ]
     },
     "execution_count": 29,
     "metadata": {},
     "output_type": "execute_result"
    }
   ],
   "source": [
    "type(y)"
   ]
  },
  {
   "cell_type": "code",
   "execution_count": 30,
   "id": "411ae4f8",
   "metadata": {},
   "outputs": [
    {
     "data": {
      "text/plain": [
       "str"
      ]
     },
     "execution_count": 30,
     "metadata": {},
     "output_type": "execute_result"
    }
   ],
   "source": [
    "type(z)"
   ]
  },
  {
   "cell_type": "code",
   "execution_count": 31,
   "id": "c6e44dac",
   "metadata": {},
   "outputs": [
    {
     "data": {
      "text/plain": [
       "bool"
      ]
     },
     "execution_count": 31,
     "metadata": {},
     "output_type": "execute_result"
    }
   ],
   "source": [
    "type(Answer1)"
   ]
  },
  {
   "cell_type": "code",
   "execution_count": 32,
   "id": "090fdb1a",
   "metadata": {},
   "outputs": [
    {
     "name": "stdout",
     "output_type": "stream",
     "text": [
      "Note that x is an <class 'int'>, y is a <class 'float'>, z is a <class 'str'> and Answer1 is <class 'bool'>\n",
      "Note that x is an <class 'int'> , y is a <class 'float'> z is a  <class 'str'> and Answer1 is <class 'bool'> \n",
      "\n",
      "Note that x is an {type(x)}, y is a {type(y)}, z is a {type(z)} and Answer1 is {type(Answer1)}\n"
     ]
    }
   ],
   "source": [
    "# We can get pretty creative with the print function and also do various functions within a cell:\n",
    "print(f'Note that x is an {type(x)}, y is a {type(y)}, z is a {type(z)} and Answer1 is {type(Answer1)}')\n",
    "# \"f\" above is a Formatted String Line.\n",
    "# Alternatively the print above can also be:\n",
    "print('Note that x is an', type(x),', y is a', type(y),'z is a ',type(z),'and Answer1 is', type(Answer1), '\\n')\n",
    "# \"\\n\" returns a new line.\n",
    "\n",
    "# 'Not using the \"f\" treats it as a string:\n",
    "print('Note that x is an {type(x)}, y is a {type(y)}, z is a {type(z)} and Answer1 is {type(Answer1)}')"
   ]
  },
  {
   "cell_type": "markdown",
   "id": "9a625a56",
   "metadata": {},
   "source": [
    "Reference:\n",
    "- Python Output (String Formatting): https://docs.python.org/3/tutorial/inputoutput.html"
   ]
  },
  {
   "cell_type": "code",
   "execution_count": 33,
   "id": "b333af9a",
   "metadata": {},
   "outputs": [
    {
     "name": "stdout",
     "output_type": "stream",
     "text": [
      "The value of x is 1, y is 3.4, z is UMBC and Answer1 is True\n",
      "The value of x is 1, y is 3.4, z is UMBC and Answer1 is True\n"
     ]
    }
   ],
   "source": [
    "# Note the differences to using the print and formatting.\n",
    "print(f'The value of x is {x}, y is {y}, z is {(z)} and Answer1 is {(Answer1)}') # Formatted string literals\n",
    "print('The value of x is {0}, y is {1}, z is {2} and Answer1 is {3}'.format(x, y, z, Answer1)) # String format() method"
   ]
  },
  {
   "cell_type": "code",
   "execution_count": 34,
   "id": "76ba2f8d",
   "metadata": {},
   "outputs": [
    {
     "name": "stdout",
     "output_type": "stream",
     "text": [
      "The value of x is 1.000, y is 3.40, z is umbc and Answer1 is True\n",
      "The value of x is  1 , y is 3.4, z is umbc and Answer1 is True\n"
     ]
    },
    {
     "data": {
      "text/plain": [
       "'The value of x is          1 , y is 3.40, z is umbc and Answer1 is True'"
      ]
     },
     "execution_count": 34,
     "metadata": {},
     "output_type": "execute_result"
    }
   ],
   "source": [
    "# Applying specific formatting as defined.\n",
    "print(f'The value of x is {x:.3f}, y is {y:.2f}, z is {(z).lower()} and Answer1 is {(Answer1)}')\n",
    "print('The value of x is  {0} , y is {1}, z is {2} and Answer1 is {3}'.format(x, y, z.lower(), Answer1))\n",
    "'The value of x is  {:9} , y is {:.2f}, z is {} and Answer1 is {}'.format(x, y, z.lower(), Answer1)"
   ]
  },
  {
   "cell_type": "code",
   "execution_count": 35,
   "id": "720c92ca",
   "metadata": {},
   "outputs": [
    {
     "name": "stdout",
     "output_type": "stream",
     "text": [
      "Data Science\n"
     ]
    }
   ],
   "source": [
    "# Variables do not need to be declared with any particular type and can even change type after they have been set.\n",
    "x = 1\n",
    "x = 3.4125415\n",
    "x = \"Data Science\"\n",
    "print(x)"
   ]
  },
  {
   "cell_type": "code",
   "execution_count": 36,
   "id": "5be87c3d",
   "metadata": {},
   "outputs": [
    {
     "name": "stdout",
     "output_type": "stream",
     "text": [
      "That is my car.\n",
      "That is my car.\n",
      "That's my car.\n"
     ]
    }
   ],
   "source": [
    "# Note on double quotes and single quotes. The first three examples will work.\n",
    "print(\"That is my car.\")\n",
    "print('That is my car.')\n",
    "print(\"That's my car.\") # Note use of different quotes."
   ]
  },
  {
   "cell_type": "code",
   "execution_count": 37,
   "id": "5392dcb5",
   "metadata": {},
   "outputs": [
    {
     "ename": "SyntaxError",
     "evalue": "unterminated string literal (detected at line 2) (704259835.py, line 2)",
     "output_type": "error",
     "traceback": [
      "\u001b[1;36m  Cell \u001b[1;32mIn[37], line 2\u001b[1;36m\u001b[0m\n\u001b[1;33m    print('That's my car.')\u001b[0m\n\u001b[1;37m                         ^\u001b[0m\n\u001b[1;31mSyntaxError\u001b[0m\u001b[1;31m:\u001b[0m unterminated string literal (detected at line 2)\n"
     ]
    }
   ],
   "source": [
    "# This example will result in a SyntaxError. Uncomment and run to see.\n",
    "print('That's my car.')"
   ]
  },
  {
   "cell_type": "code",
   "execution_count": 38,
   "id": "a6d694ee",
   "metadata": {},
   "outputs": [],
   "source": [
    "# Be careful with use on single and double quotes. When analyzing data this may cause issues.\n",
    "# We will explore potential challenges with quotes and how to address them when analyzing text data."
   ]
  },
  {
   "cell_type": "markdown",
   "id": "53ecd5f2",
   "metadata": {},
   "source": [
    "# Variable Naming Conventions and Naming Styles\n",
    "[Return to Table of Contents](#Table-of-Contents)\n",
    "\n",
    "By now we have used and named various variables. A variable can have a short name (like x and y) or a more descriptive name (age, carname, total_volume). \n",
    "\n",
    "Rules for Python variables naming:<br>\n",
    "[1] A variable name must start with a letter or the underscore character;<br>\n",
    "[2] A variable name CANNOT start with a number;<br>\n",
    "[3] A variable name can only contain alpha-numeric characters and underscores (A-z, 0-9, and _ );<br>\n",
    "[4] Variable names are case-sensitive (age, Age and AGE are three different variables); and<br>\n",
    "[5] Do not use function names as variable names.\n",
    "\n",
    "There is no relationship between a variable's value or use and its name. Generally you should name variables so you can tell what they are used for. In general, the more meaningful your names, the easier it will be to understand the code, when you come back to it, and the less likely you are to use the wrong variable.\n",
    "\n",
    "Style conventions aren't syntax, but allow all coders to recognise what an element is. There's a styleguide for Python at:\n",
    "https://www.python.org/dev/peps/pep-0008/ But it goes out of its way to avoid talking about variable names. \n",
    "\n",
    "The community preference seems to be for lowercase words to be joined with underscores: <b>snake_case</b>, for example, perimeter_of_a_square\n",
    "\n",
    "Though, where Python is working with C or other code, the more conventional <b>camelCase</b> is sometimes used, for example\n",
    "perimeterOfASquare.\n",
    "\n",
    "Either way, start with a lowercase letter, as other things start uppercase."
   ]
  },
  {
   "cell_type": "code",
   "execution_count": 39,
   "id": "281c974b",
   "metadata": {},
   "outputs": [
    {
     "name": "stdout",
     "output_type": "stream",
     "text": [
      "hello world\n"
     ]
    }
   ],
   "source": [
    "# Example of passing a function within a variable.\n",
    "# In Python (but not all other languages), functions themselves are objects that can be given labels:\n",
    "a = print\n",
    "a(\"hello world\")"
   ]
  },
  {
   "cell_type": "markdown",
   "id": "39b229a6",
   "metadata": {},
   "source": [
    "This makes it incredibly powerful: for example, we can pass one function into another which is the core of functional programming."
   ]
  },
  {
   "cell_type": "markdown",
   "id": "06fc4314",
   "metadata": {},
   "source": [
    "The function dir() returns the list of names, valid attributes and functions for an object (e.g., variable).\n",
    "- If the object is a module object, the list contains the names of the module’s attributes.\n",
    "- If the object is a type or class object, the list contains the names of its attributes, and recursively of the attributes of its bases.\n",
    "- Otherwise, the list contains the object’s attributes’ names, the names of its class’s attributes, and recursively of the attributes of its class’s base classes.\n",
    "\n",
    "dir() function Documentation: https://docs.python.org/3/library/functions.html#dir"
   ]
  },
  {
   "cell_type": "code",
   "execution_count": 40,
   "id": "7e1b0028",
   "metadata": {},
   "outputs": [
    {
     "name": "stdout",
     "output_type": "stream",
     "text": [
      "<class 'builtin_function_or_method'>\n"
     ]
    },
    {
     "data": {
      "text/plain": [
       "['__call__',\n",
       " '__class__',\n",
       " '__delattr__',\n",
       " '__dir__',\n",
       " '__doc__',\n",
       " '__eq__',\n",
       " '__format__',\n",
       " '__ge__',\n",
       " '__getattribute__',\n",
       " '__getstate__',\n",
       " '__gt__',\n",
       " '__hash__',\n",
       " '__init__',\n",
       " '__init_subclass__',\n",
       " '__le__',\n",
       " '__lt__',\n",
       " '__module__',\n",
       " '__name__',\n",
       " '__ne__',\n",
       " '__new__',\n",
       " '__qualname__',\n",
       " '__reduce__',\n",
       " '__reduce_ex__',\n",
       " '__repr__',\n",
       " '__self__',\n",
       " '__setattr__',\n",
       " '__sizeof__',\n",
       " '__str__',\n",
       " '__subclasshook__',\n",
       " '__text_signature__']"
      ]
     },
     "execution_count": 40,
     "metadata": {},
     "output_type": "execute_result"
    }
   ],
   "source": [
    "# We can learn the available functions for the string type.\n",
    "# Dir returns attributes and methods (e.g., available functions) related to an object\n",
    "# The ones starting and ending with \"__\" are \"internal use\" \n",
    "print(type(a)) # We can check what a is.\n",
    "dir(a)"
   ]
  },
  {
   "cell_type": "code",
   "execution_count": 41,
   "id": "59d79fdf",
   "metadata": {},
   "outputs": [
    {
     "data": {
      "text/plain": [
       "builtin_function_or_method"
      ]
     },
     "execution_count": 41,
     "metadata": {},
     "output_type": "execute_result"
    }
   ],
   "source": [
    "# Because a is defined as print both a and print should have the same type.\n",
    "type(print)"
   ]
  },
  {
   "cell_type": "code",
   "execution_count": 42,
   "id": "393908ea",
   "metadata": {},
   "outputs": [
    {
     "name": "stdout",
     "output_type": "stream",
     "text": [
      "Data Science\n",
      "<class 'str'>\n"
     ]
    },
    {
     "data": {
      "text/plain": [
       "['__add__',\n",
       " '__class__',\n",
       " '__contains__',\n",
       " '__delattr__',\n",
       " '__dir__',\n",
       " '__doc__',\n",
       " '__eq__',\n",
       " '__format__',\n",
       " '__ge__',\n",
       " '__getattribute__',\n",
       " '__getitem__',\n",
       " '__getnewargs__',\n",
       " '__getstate__',\n",
       " '__gt__',\n",
       " '__hash__',\n",
       " '__init__',\n",
       " '__init_subclass__',\n",
       " '__iter__',\n",
       " '__le__',\n",
       " '__len__',\n",
       " '__lt__',\n",
       " '__mod__',\n",
       " '__mul__',\n",
       " '__ne__',\n",
       " '__new__',\n",
       " '__reduce__',\n",
       " '__reduce_ex__',\n",
       " '__repr__',\n",
       " '__rmod__',\n",
       " '__rmul__',\n",
       " '__setattr__',\n",
       " '__sizeof__',\n",
       " '__str__',\n",
       " '__subclasshook__',\n",
       " 'capitalize',\n",
       " 'casefold',\n",
       " 'center',\n",
       " 'count',\n",
       " 'encode',\n",
       " 'endswith',\n",
       " 'expandtabs',\n",
       " 'find',\n",
       " 'format',\n",
       " 'format_map',\n",
       " 'index',\n",
       " 'isalnum',\n",
       " 'isalpha',\n",
       " 'isascii',\n",
       " 'isdecimal',\n",
       " 'isdigit',\n",
       " 'isidentifier',\n",
       " 'islower',\n",
       " 'isnumeric',\n",
       " 'isprintable',\n",
       " 'isspace',\n",
       " 'istitle',\n",
       " 'isupper',\n",
       " 'join',\n",
       " 'ljust',\n",
       " 'lower',\n",
       " 'lstrip',\n",
       " 'maketrans',\n",
       " 'partition',\n",
       " 'removeprefix',\n",
       " 'removesuffix',\n",
       " 'replace',\n",
       " 'rfind',\n",
       " 'rindex',\n",
       " 'rjust',\n",
       " 'rpartition',\n",
       " 'rsplit',\n",
       " 'rstrip',\n",
       " 'split',\n",
       " 'splitlines',\n",
       " 'startswith',\n",
       " 'strip',\n",
       " 'swapcase',\n",
       " 'title',\n",
       " 'translate',\n",
       " 'upper',\n",
       " 'zfill']"
      ]
     },
     "execution_count": 42,
     "metadata": {},
     "output_type": "execute_result"
    }
   ],
   "source": [
    "print(x)\n",
    "print(type(x)) # We can check what x is.\n",
    "dir(x)"
   ]
  },
  {
   "cell_type": "markdown",
   "id": "994fc2c3",
   "metadata": {},
   "source": [
    "# Operations with Variables\n",
    "[Return to Table of Contents](#Table-of-Contents)"
   ]
  },
  {
   "cell_type": "code",
   "execution_count": 43,
   "id": "bea319a1",
   "metadata": {},
   "outputs": [
    {
     "name": "stdout",
     "output_type": "stream",
     "text": [
      "100\n",
      "200.124\n",
      "Maryland\n"
     ]
    }
   ],
   "source": [
    "# you can define multiple variables at once\n",
    "y, z, asd = 100, 200.124, \"Maryland\"\n",
    "print(y)\n",
    "print(z)\n",
    "print(asd)"
   ]
  },
  {
   "cell_type": "code",
   "execution_count": 44,
   "id": "164d1d2f",
   "metadata": {},
   "outputs": [],
   "source": [
    "var1 = 'This is a String'"
   ]
  },
  {
   "cell_type": "code",
   "execution_count": 45,
   "id": "cc97cfe7",
   "metadata": {},
   "outputs": [],
   "source": [
    "var2 = \"This is also a String\"  # Did you see the difference between this command and previouse one?"
   ]
  },
  {
   "cell_type": "code",
   "execution_count": 46,
   "id": "622bd5ed",
   "metadata": {},
   "outputs": [
    {
     "data": {
      "text/plain": [
       "'This is a StringThis is also a String'"
      ]
     },
     "execution_count": 46,
     "metadata": {},
     "output_type": "execute_result"
    }
   ],
   "source": [
    "# what happens if we add them?\n",
    "var1+var2"
   ]
  },
  {
   "cell_type": "code",
   "execution_count": 47,
   "id": "3db53618",
   "metadata": {},
   "outputs": [
    {
     "name": "stdout",
     "output_type": "stream",
     "text": [
      "This is a String . This is also a String\n"
     ]
    }
   ],
   "source": [
    "# what happens if we try this:\n",
    "print(var1,'.',var2)"
   ]
  },
  {
   "cell_type": "code",
   "execution_count": 48,
   "id": "81843dfa",
   "metadata": {},
   "outputs": [
    {
     "data": {
      "text/plain": [
       "'This is a String. This is also a String'"
      ]
     },
     "execution_count": 48,
     "metadata": {},
     "output_type": "execute_result"
    }
   ],
   "source": [
    "var1 + '. ' + var2"
   ]
  },
  {
   "cell_type": "code",
   "execution_count": 49,
   "id": "3bc1947c",
   "metadata": {},
   "outputs": [],
   "source": [
    "var1, var2 = 1, 2"
   ]
  },
  {
   "cell_type": "code",
   "execution_count": 50,
   "id": "1150fd53",
   "metadata": {},
   "outputs": [
    {
     "data": {
      "text/plain": [
       "0.5"
      ]
     },
     "execution_count": 50,
     "metadata": {},
     "output_type": "execute_result"
    }
   ],
   "source": [
    "var1 / var2   # Regular division"
   ]
  },
  {
   "cell_type": "code",
   "execution_count": 51,
   "id": "82b2b955",
   "metadata": {},
   "outputs": [
    {
     "data": {
      "text/plain": [
       "0"
      ]
     },
     "execution_count": 51,
     "metadata": {},
     "output_type": "execute_result"
    }
   ],
   "source": [
    "var1 // var2  # Integer division: drops the fraction"
   ]
  },
  {
   "cell_type": "code",
   "execution_count": 52,
   "id": "e8f42514",
   "metadata": {},
   "outputs": [
    {
     "name": "stdout",
     "output_type": "stream",
     "text": [
      "10000\n"
     ]
    }
   ],
   "source": [
    "y = 100\n",
    "x = y**2 # exponent \n",
    "print(x)"
   ]
  },
  {
   "cell_type": "code",
   "execution_count": 53,
   "id": "fccfcbfa",
   "metadata": {},
   "outputs": [
    {
     "name": "stdout",
     "output_type": "stream",
     "text": [
      "10000.0\n"
     ]
    }
   ],
   "source": [
    "y = 100.0\n",
    "x = y**2 # exponent\n",
    "print(x)"
   ]
  },
  {
   "cell_type": "markdown",
   "id": "b9f71c17",
   "metadata": {},
   "source": [
    "Do you see the difference between the previous the output of the two cells above?"
   ]
  },
  {
   "cell_type": "code",
   "execution_count": 54,
   "id": "ac723da5",
   "metadata": {},
   "outputs": [
    {
     "data": {
      "text/plain": [
       "0.5"
      ]
     },
     "execution_count": 54,
     "metadata": {},
     "output_type": "execute_result"
    }
   ],
   "source": [
    "# int and float results in float\n",
    "1/2.0   "
   ]
  },
  {
   "cell_type": "code",
   "execution_count": 55,
   "id": "0435e5e9",
   "metadata": {},
   "outputs": [
    {
     "name": "stdout",
     "output_type": "stream",
     "text": [
      "<class 'complex'>\n"
     ]
    }
   ],
   "source": [
    "#  Python can handle complex numbers as well\n",
    "w = 3+4j\n",
    "print(type(w))"
   ]
  },
  {
   "cell_type": "code",
   "execution_count": 56,
   "id": "b25f6c43",
   "metadata": {},
   "outputs": [
    {
     "name": "stdout",
     "output_type": "stream",
     "text": [
      "1100.0\n"
     ]
    }
   ],
   "source": [
    "# Float can also be scientific numbers with an \"e\" to indicate the power of 10.\n",
    "x = 1.1e3\n",
    "print(x)"
   ]
  },
  {
   "cell_type": "markdown",
   "id": "1fd85792",
   "metadata": {},
   "source": [
    "# CASTING: Specifying Data Type\n",
    "[Return to Table of Contents](#Table-of-Contents)\n",
    "\n",
    "There may be times when you want to specify a type on to a variable. This can be done with casting. In short, this forces a variable to be specific type.\n",
    "\n",
    "The function int() constructs an integer number from an integer literal, a float() literal (by rounding down to the previous whole number), or a string literal (providing the string represents a whole number)."
   ]
  },
  {
   "cell_type": "code",
   "execution_count": 57,
   "id": "79e1b81e",
   "metadata": {},
   "outputs": [
    {
     "name": "stdout",
     "output_type": "stream",
     "text": [
      "1 2 3 1 0\n"
     ]
    }
   ],
   "source": [
    "x = int(1)   \n",
    "y = int(2.8)\n",
    "z = int(\"3\") # Converts a string number to a integer. \n",
    "answer_1 = int(True)\n",
    "answer_2 = int(False) # True and false are converted to 0 and 1 respectively.\n",
    "print(x,y,z, answer_1, answer_2)"
   ]
  },
  {
   "cell_type": "markdown",
   "id": "acebad4f",
   "metadata": {},
   "source": [
    "The function float() constructs a float number from an integer literal, a float literal or a string literal (providing the string represents a float or an integer)"
   ]
  },
  {
   "cell_type": "code",
   "execution_count": 58,
   "id": "f1977006",
   "metadata": {},
   "outputs": [
    {
     "name": "stdout",
     "output_type": "stream",
     "text": [
      "1.0 2.8 3.0 4.2 1.0 0.0\n"
     ]
    }
   ],
   "source": [
    "x = float(1)    \n",
    "y = float(2.8)   \n",
    "z = float(\"3\") # Converts a string number to a float.\n",
    "w = float(\"4.2\")\n",
    "answer_1 = float(True)\n",
    "answer_2 = float(False) # True and false are converted to 0.0 and 1.0 respectively.\n",
    "print(x,y,z,w,answer_1, answer_2)"
   ]
  },
  {
   "cell_type": "markdown",
   "id": "4d913ae9",
   "metadata": {},
   "source": [
    "The Function str() constructs a string from a wide variety of data types, including strings, integer literals and float literals"
   ]
  },
  {
   "cell_type": "code",
   "execution_count": 59,
   "id": "eb31ce72",
   "metadata": {},
   "outputs": [
    {
     "name": "stdout",
     "output_type": "stream",
     "text": [
      "s1 2 3.0 Python Rocks\n"
     ]
    }
   ],
   "source": [
    "x = str(\"s1\") \n",
    "y = str(2)    \n",
    "z = str(3.0)\n",
    "w = str('Python Rocks')\n",
    "print(x,y,z,w)"
   ]
  },
  {
   "cell_type": "code",
   "execution_count": 60,
   "id": "abc703c5",
   "metadata": {},
   "outputs": [
    {
     "ename": "ValueError",
     "evalue": "invalid literal for int() with base 10: 'Python Rocks'",
     "output_type": "error",
     "traceback": [
      "\u001b[1;31m---------------------------------------------------------------------------\u001b[0m",
      "\u001b[1;31mValueError\u001b[0m                                Traceback (most recent call last)",
      "Cell \u001b[1;32mIn[60], line 1\u001b[0m\n\u001b[1;32m----> 1\u001b[0m x \u001b[38;5;241m=\u001b[39m \u001b[38;5;28mint\u001b[39m(\u001b[38;5;124m'\u001b[39m\u001b[38;5;124mPython Rocks\u001b[39m\u001b[38;5;124m'\u001b[39m)\n\u001b[0;32m      2\u001b[0m \u001b[38;5;28mprint\u001b[39m(x)\n",
      "\u001b[1;31mValueError\u001b[0m: invalid literal for int() with base 10: 'Python Rocks'"
     ]
    }
   ],
   "source": [
    "x = int('Python Rocks')\n",
    "print(x)\n",
    "# Note that there are some castings that will fail. Like trying to convert letters to a numeric type.\n",
    "# This will give a ValueError."
   ]
  },
  {
   "cell_type": "markdown",
   "id": "9a0314be-a83b-452e-ae40-71abe9cbef89",
   "metadata": {},
   "source": [
    "When reading an error, start at the bottom statement and then go to the location being highlighted. In some examples there may be many more lines and the message at the end and highlighted location will help identify the issue in the majority of the error messages."
   ]
  },
  {
   "cell_type": "markdown",
   "id": "547f2ce8",
   "metadata": {},
   "source": [
    "# Working With Strings\n",
    "[Return to Table of Contents](#Table-of-Contents)\n",
    "\n",
    "Note that Python stores strings as arrays of bytes representing unicode characters. There are various functions that can help us work with text strings this include print(), len(), variable_name[]."
   ]
  },
  {
   "cell_type": "code",
   "execution_count": 61,
   "id": "b3452a49",
   "metadata": {},
   "outputs": [
    {
     "name": "stdout",
     "output_type": "stream",
     "text": [
      "Recall that variable w is defined as \"Python Rocks\".\n"
     ]
    }
   ],
   "source": [
    "print(f'Recall that variable w is defined as \"{w}\".')"
   ]
  },
  {
   "cell_type": "code",
   "execution_count": 62,
   "id": "b010b60a",
   "metadata": {},
   "outputs": [
    {
     "data": {
      "text/plain": [
       "'Python Rocks'"
      ]
     },
     "execution_count": 62,
     "metadata": {},
     "output_type": "execute_result"
    }
   ],
   "source": [
    "w"
   ]
  },
  {
   "cell_type": "code",
   "execution_count": 63,
   "id": "44df6d94",
   "metadata": {},
   "outputs": [
    {
     "data": {
      "text/plain": [
       "12"
      ]
     },
     "execution_count": 63,
     "metadata": {},
     "output_type": "execute_result"
    }
   ],
   "source": [
    "# Let's look at \"w\" more carefully,\n",
    "# Function lent prints the number of characters within the string.\n",
    "len(w)"
   ]
  },
  {
   "cell_type": "code",
   "execution_count": 64,
   "id": "f91e871b",
   "metadata": {},
   "outputs": [
    {
     "name": "stdout",
     "output_type": "stream",
     "text": [
      "P\n"
     ]
    }
   ],
   "source": [
    "print(w[0]) # Python is a zero index code. First position starts at 0 not 1."
   ]
  },
  {
   "cell_type": "code",
   "execution_count": 65,
   "id": "e5e40a73",
   "metadata": {},
   "outputs": [
    {
     "name": "stdout",
     "output_type": "stream",
     "text": [
      "y\n"
     ]
    }
   ],
   "source": [
    "print(w[1]) # This prints the second character."
   ]
  },
  {
   "cell_type": "code",
   "execution_count": 66,
   "id": "29eae09f",
   "metadata": {},
   "outputs": [
    {
     "name": "stdout",
     "output_type": "stream",
     "text": [
      "Python Rocks\n"
     ]
    }
   ],
   "source": [
    "print(w[:]) # Prints all string would be the same as print(w).\n",
    "# Recall that Print returns a noneobject."
   ]
  },
  {
   "cell_type": "code",
   "execution_count": 67,
   "id": "a182284c",
   "metadata": {},
   "outputs": [
    {
     "data": {
      "text/plain": [
       "'Python Rocks'"
      ]
     },
     "execution_count": 67,
     "metadata": {},
     "output_type": "execute_result"
    }
   ],
   "source": [
    "# In some cases we also want to select the partial substring and return in as a string object.\n",
    "# The following code shows ways to select partial string within string.\n",
    "\n",
    "w[:] # Selects everything"
   ]
  },
  {
   "cell_type": "code",
   "execution_count": 68,
   "id": "fc8f0957",
   "metadata": {},
   "outputs": [
    {
     "data": {
      "text/plain": [
       "'s'"
      ]
     },
     "execution_count": 68,
     "metadata": {},
     "output_type": "execute_result"
    }
   ],
   "source": [
    "w[-1]"
   ]
  },
  {
   "cell_type": "code",
   "execution_count": 69,
   "id": "655bdaad",
   "metadata": {},
   "outputs": [
    {
     "data": {
      "text/plain": [
       "'on Rocks'"
      ]
     },
     "execution_count": 69,
     "metadata": {},
     "output_type": "execute_result"
    }
   ],
   "source": [
    "w[4:]"
   ]
  },
  {
   "cell_type": "code",
   "execution_count": 70,
   "id": "11013363",
   "metadata": {},
   "outputs": [
    {
     "data": {
      "text/plain": [
       "'Pytho'"
      ]
     },
     "execution_count": 70,
     "metadata": {},
     "output_type": "execute_result"
    }
   ],
   "source": [
    "w[:5]"
   ]
  },
  {
   "cell_type": "code",
   "execution_count": 71,
   "id": "22e2fd3c",
   "metadata": {},
   "outputs": [
    {
     "name": "stdout",
     "output_type": "stream",
     "text": [
      " \n"
     ]
    }
   ],
   "source": [
    "print(w[6]) # What is character in position 6?"
   ]
  },
  {
   "cell_type": "code",
   "execution_count": 72,
   "id": "641ecb03",
   "metadata": {},
   "outputs": [
    {
     "data": {
      "text/plain": [
       "' '"
      ]
     },
     "execution_count": 72,
     "metadata": {},
     "output_type": "execute_result"
    }
   ],
   "source": [
    "w[6]"
   ]
  },
  {
   "cell_type": "code",
   "execution_count": 73,
   "id": "0500775e",
   "metadata": {},
   "outputs": [
    {
     "name": "stdout",
     "output_type": "stream",
     "text": [
      "Albert Einstein\n",
      "Albert Einstein\n",
      "Albert Einstein\n"
     ]
    }
   ],
   "source": [
    "# There are so many great string functions in Python, \n",
    "# which will be so useful for Exploratory Data Analysis (EDA).\n",
    "# For example: strip(), removes any whitespace from the beginning or the end.\n",
    "Name1 = \"Albert Einstein\"\n",
    "Name2 = \" Albert Einstein\"\n",
    "Name3 = \"  Albert Einstein   \"\n",
    "print(Name1.strip())\n",
    "print(Name2.strip())\n",
    "print(Name3.strip())"
   ]
  },
  {
   "cell_type": "code",
   "execution_count": 74,
   "id": "18c20862",
   "metadata": {},
   "outputs": [
    {
     "name": "stdout",
     "output_type": "stream",
     "text": [
      "albert einstein\n"
     ]
    }
   ],
   "source": [
    "# The lower() method returns the string in lower case:\n",
    "Name1 = \"Albert Einstein\"\n",
    "print(Name1.lower())"
   ]
  },
  {
   "cell_type": "code",
   "execution_count": 75,
   "id": "0daad8ba",
   "metadata": {},
   "outputs": [
    {
     "name": "stdout",
     "output_type": "stream",
     "text": [
      "ALBERT EINSTEIN\n"
     ]
    }
   ],
   "source": [
    "# The upper() method returns the string in upper case:\n",
    "Name1 = \"Albert Einstein\"\n",
    "print(Name1.upper())"
   ]
  },
  {
   "cell_type": "code",
   "execution_count": 76,
   "id": "c3577e9d",
   "metadata": {},
   "outputs": [
    {
     "data": {
      "text/plain": [
       "'Albert Einstein'"
      ]
     },
     "execution_count": 76,
     "metadata": {},
     "output_type": "execute_result"
    }
   ],
   "source": [
    "Name1"
   ]
  },
  {
   "cell_type": "code",
   "execution_count": 77,
   "id": "1a3538fd",
   "metadata": {},
   "outputs": [],
   "source": [
    "Name1 = Name1.upper()"
   ]
  },
  {
   "cell_type": "code",
   "execution_count": 78,
   "id": "9792f2e1",
   "metadata": {},
   "outputs": [
    {
     "data": {
      "text/plain": [
       "'ALBERT EINSTEIN'"
      ]
     },
     "execution_count": 78,
     "metadata": {},
     "output_type": "execute_result"
    }
   ],
   "source": [
    "Name1"
   ]
  },
  {
   "cell_type": "code",
   "execution_count": 79,
   "id": "04110dfe",
   "metadata": {},
   "outputs": [
    {
     "name": "stdout",
     "output_type": "stream",
     "text": [
      "€100, €200, €87, €500\n"
     ]
    }
   ],
   "source": [
    "# Another very useful method is replace()\n",
    "# The replace() method replaces a string with another string:\n",
    "prices = \"$100, $200, $87, $500\"\n",
    "print(prices.replace(\"$\", \"€\"))"
   ]
  },
  {
   "cell_type": "code",
   "execution_count": 80,
   "id": "d0c01ecb",
   "metadata": {},
   "outputs": [
    {
     "name": "stdout",
     "output_type": "stream",
     "text": [
      "100, 200, $87, $500\n"
     ]
    }
   ],
   "source": [
    "prices = \"$100, $200, $87, $500\"\n",
    "print(prices.replace(\"$\", \"\", 2))"
   ]
  },
  {
   "cell_type": "code",
   "execution_count": 81,
   "id": "0423f285",
   "metadata": {},
   "outputs": [
    {
     "name": "stdout",
     "output_type": "stream",
     "text": [
      "['$100', '$200', '$87', '$500']\n"
     ]
    }
   ],
   "source": [
    "# Another super powerful method is split\n",
    "# split() method splits the string into substrings if it finds instances of the separator.\n",
    "prices = \"$100, $200, $87, $500\"\n",
    "print(prices.split(\", \"))\n",
    "# Note the output here is new. Is a list of strings. We will be discussing about lists later on."
   ]
  },
  {
   "cell_type": "code",
   "execution_count": 82,
   "id": "533c8769",
   "metadata": {},
   "outputs": [
    {
     "name": "stdout",
     "output_type": "stream",
     "text": [
      "['I', 'will', 'go', 'shopping', 'today.I', 'am', 'having', 'dinner', 'tomorrow']\n"
     ]
    }
   ],
   "source": [
    "A_sentence = \"I will go shopping today.I am having dinner tomorrow\"\n",
    "print(A_sentence.split(\" \"))"
   ]
  },
  {
   "cell_type": "code",
   "execution_count": 83,
   "id": "1566fd84",
   "metadata": {},
   "outputs": [
    {
     "name": "stdout",
     "output_type": "stream",
     "text": [
      "Baltimore is 74 degrees Fahrenheit today.\n"
     ]
    }
   ],
   "source": [
    "# If you try to combine a string and a number, Python will give you an error:\n",
    "# If you need to combine a string and a number, then you'll need to convert numbers into strings\n",
    "temperature = 74\n",
    "z = \"Baltimore\"\n",
    "print(z, 'is', str(temperature), \"degrees Fahrenheit today.\")"
   ]
  },
  {
   "cell_type": "code",
   "execution_count": 84,
   "id": "976b2f7b",
   "metadata": {},
   "outputs": [
    {
     "ename": "TypeError",
     "evalue": "unsupported operand type(s) for +: 'int' and 'str'",
     "output_type": "error",
     "traceback": [
      "\u001b[1;31m---------------------------------------------------------------------------\u001b[0m",
      "\u001b[1;31mTypeError\u001b[0m                                 Traceback (most recent call last)",
      "Cell \u001b[1;32mIn[84], line 1\u001b[0m\n\u001b[1;32m----> 1\u001b[0m temperature \u001b[38;5;241m+\u001b[39m z\n",
      "\u001b[1;31mTypeError\u001b[0m: unsupported operand type(s) for +: 'int' and 'str'"
     ]
    }
   ],
   "source": [
    "temperature + z # See type error as matehmatical operation cannot be performed between number and string\n",
    "# There may be data transformations that allow such operations."
   ]
  },
  {
   "cell_type": "markdown",
   "id": "6ef4b28c",
   "metadata": {},
   "source": [
    "# Command-line String Input() Function\n",
    "[Return to Table of Contents](#Table-of-Contents)"
   ]
  },
  {
   "cell_type": "code",
   "execution_count": 85,
   "id": "a6dd5895",
   "metadata": {
    "scrolled": true
   },
   "outputs": [
    {
     "name": "stdin",
     "output_type": "stream",
     "text": [
      "Enter your name and press \"Enter/Return\" on keyboard:  Johnny\n"
     ]
    }
   ],
   "source": [
    "# Python allows for command line input. That means we are able to ask the user for input.\n",
    "# What we need is the input() method\n",
    "x = input(prompt = 'Enter your name and press \"Enter/Return\" on keyboard: ')"
   ]
  },
  {
   "cell_type": "code",
   "execution_count": 86,
   "id": "ed7f587d",
   "metadata": {},
   "outputs": [
    {
     "name": "stdout",
     "output_type": "stream",
     "text": [
      "Hello Johnny\n"
     ]
    }
   ],
   "source": [
    "print(\"Hello\", x)"
   ]
  },
  {
   "cell_type": "markdown",
   "id": "f101107a",
   "metadata": {},
   "source": [
    "# Arithmetic Operators\n",
    "[Return to Table of Contents](#Table-of-Contents)\n",
    "\n",
    "Python has many operators. This include those used for arithmetic operations."
   ]
  },
  {
   "cell_type": "code",
   "execution_count": 87,
   "id": "340f8776",
   "metadata": {},
   "outputs": [
    {
     "name": "stdout",
     "output_type": "stream",
     "text": [
      "14.0 10.0 24.0 144.0 6.2 6.0 1 1.0\n"
     ]
    }
   ],
   "source": [
    "x = 12.0\n",
    "y = 2\n",
    "addition = x+y\n",
    "subtraction = x-y\n",
    "multiplication = x*y\n",
    "exponentitation = x**y\n",
    "division = 12.4/y\n",
    "floor_division = 12.4//y\n",
    "modulus = 10%3\n",
    "modulus2 = 10%3.0\n",
    "print(addition, subtraction, multiplication, exponentitation, division, floor_division, modulus, modulus2)\n",
    "# Note the difference between division and floor division!"
   ]
  },
  {
   "cell_type": "code",
   "execution_count": 88,
   "id": "8dfb914f",
   "metadata": {},
   "outputs": [],
   "source": [
    "# Augmented Assignment Operators are very useful operators for counting, indexing, etc."
   ]
  },
  {
   "cell_type": "code",
   "execution_count": 89,
   "id": "1a5ca683",
   "metadata": {},
   "outputs": [
    {
     "data": {
      "text/plain": [
       "13.0"
      ]
     },
     "execution_count": 89,
     "metadata": {},
     "output_type": "execute_result"
    }
   ],
   "source": [
    "x += 1 # Same as: x = x + 1 \n",
    "x"
   ]
  },
  {
   "cell_type": "code",
   "execution_count": 90,
   "id": "2a9fbc5c",
   "metadata": {},
   "outputs": [
    {
     "data": {
      "text/plain": [
       "12.0"
      ]
     },
     "execution_count": 90,
     "metadata": {},
     "output_type": "execute_result"
    }
   ],
   "source": [
    "x -= 1 # same as: x = x – 1\n",
    "x"
   ]
  },
  {
   "cell_type": "code",
   "execution_count": 91,
   "id": "bb60420c",
   "metadata": {},
   "outputs": [
    {
     "data": {
      "text/plain": [
       "36.0"
      ]
     },
     "execution_count": 91,
     "metadata": {},
     "output_type": "execute_result"
    }
   ],
   "source": [
    "x *= 3 # same as: x = x * 3\n",
    "x"
   ]
  },
  {
   "cell_type": "code",
   "execution_count": 92,
   "id": "50c8ec86",
   "metadata": {},
   "outputs": [
    {
     "data": {
      "text/plain": [
       "12.0"
      ]
     },
     "execution_count": 92,
     "metadata": {},
     "output_type": "execute_result"
    }
   ],
   "source": [
    "x /= 3 # same as: x = x / 3\n",
    "x"
   ]
  },
  {
   "cell_type": "code",
   "execution_count": 93,
   "id": "9b480ac2",
   "metadata": {},
   "outputs": [
    {
     "data": {
      "text/plain": [
       "4.0"
      ]
     },
     "execution_count": 93,
     "metadata": {},
     "output_type": "execute_result"
    }
   ],
   "source": [
    "x //= 3 # same as: x = x // 3\n",
    "x"
   ]
  },
  {
   "cell_type": "code",
   "execution_count": 94,
   "id": "abbac8e6",
   "metadata": {},
   "outputs": [
    {
     "data": {
      "text/plain": [
       "1.0"
      ]
     },
     "execution_count": 94,
     "metadata": {},
     "output_type": "execute_result"
    }
   ],
   "source": [
    "x %= 3 # same as: x = x % 3\n",
    "x"
   ]
  },
  {
   "cell_type": "markdown",
   "id": "b8c8f9ac",
   "metadata": {},
   "source": [
    "# Lambda Expressions\n",
    "[Return to Table of Contents](#Table-of-Contents)\n",
    "\n",
    "Lambda is a keyword used to develop a small function and restricted to a single expression. They can be used with variables, lists, dataframes (to be discussed in the data analysis lecture), and other objects. Although very powerful, lambda statemetns sometimes can result in reduced code readability. A lambda expression has the following form:\n",
    "\n",
    "    lambda x: \"Some statement\"\n",
    "\n",
    "Documentation Reference: https://docs.python.org/3/tutorial/controlflow.html#lambda-expressions"
   ]
  },
  {
   "cell_type": "code",
   "execution_count": 95,
   "id": "f47eae46",
   "metadata": {},
   "outputs": [],
   "source": [
    "x = 4\n",
    "y = 3\n",
    "number_list = [4, 6, 9, 10, 11, 24]"
   ]
  },
  {
   "cell_type": "code",
   "execution_count": 96,
   "id": "9799aa52",
   "metadata": {},
   "outputs": [
    {
     "data": {
      "text/plain": [
       "10"
      ]
     },
     "execution_count": 96,
     "metadata": {},
     "output_type": "execute_result"
    }
   ],
   "source": [
    "# Simple arithmetic operation.\n",
    "(lambda x: x*2)(x = 5)"
   ]
  },
  {
   "cell_type": "code",
   "execution_count": 97,
   "id": "cf9fa8a1",
   "metadata": {},
   "outputs": [
    {
     "name": "stdout",
     "output_type": "stream",
     "text": [
      "4\n"
     ]
    }
   ],
   "source": [
    "print(x) # Note x is still 4."
   ]
  },
  {
   "cell_type": "code",
   "execution_count": 98,
   "id": "269ba3ba",
   "metadata": {},
   "outputs": [
    {
     "data": {
      "text/plain": [
       "[16, 36, 81, 100, 121, 576]"
      ]
     },
     "execution_count": 98,
     "metadata": {},
     "output_type": "execute_result"
    }
   ],
   "source": [
    "# Using a for loop to create a new list of squared values of a number list.\n",
    "# pow Function: Applies the power of specified number.\n",
    "\n",
    "number_list_squared = []\n",
    "for element in number_list:\n",
    "    number_list_squared.append(pow(element,2))\n",
    "number_list_squared"
   ]
  },
  {
   "cell_type": "code",
   "execution_count": 99,
   "id": "8964dad7",
   "metadata": {},
   "outputs": [
    {
     "data": {
      "text/plain": [
       "[16, 36, 81, 100, 121, 576]"
      ]
     },
     "execution_count": 99,
     "metadata": {},
     "output_type": "execute_result"
    }
   ],
   "source": [
    "# ALternative using lambda expression.\n",
    "# Map Function: Applies function to every item of an iterable and returns a list of the results.\n",
    "\n",
    "number_list_squared = list(map(lambda x: pow(x,2), number_list))\n",
    "number_list_squared"
   ]
  },
  {
   "cell_type": "code",
   "execution_count": 100,
   "id": "2b8d5041",
   "metadata": {},
   "outputs": [
    {
     "data": {
      "text/plain": [
       "[10, 11, 24]"
      ]
     },
     "execution_count": 100,
     "metadata": {},
     "output_type": "execute_result"
    }
   ],
   "source": [
    "# Another example using filtering.\n",
    "# Creates list of numbers from the list that are greater than 5 after dividing by 2.\n",
    "# Similarly a for loop could be created that does the same albeit a little more complicated.\n",
    "number_list_filtered = list(filter(lambda x: x/2>=5, number_list))\n",
    "number_list_filtered"
   ]
  },
  {
   "cell_type": "markdown",
   "id": "e77cd6b7",
   "metadata": {},
   "source": [
    "# Conditions, Logical Operators, If statements and Loops\n",
    "[Return to Table of Contents](#Table-of-Contents)\n",
    "\n",
    "Python supports the usual logical conditions from mathematics.\n",
    "\n",
    "## Logical Operators\n",
    "\n",
    "Python has various logical operators that allow to compare variables, numbers, classes. These include but is not limited to AND (&), OR (|), NOT (using ~), ==, <, >, =<, =>, !=, among many others."
   ]
  },
  {
   "cell_type": "code",
   "execution_count": 101,
   "id": "fab00f98",
   "metadata": {},
   "outputs": [
    {
     "name": "stdout",
     "output_type": "stream",
     "text": [
      "Recall the value of x = 4 and the value of y = 3\n"
     ]
    }
   ],
   "source": [
    "print(f'Recall the value of x = {x} and the value of y = {y}')"
   ]
  },
  {
   "cell_type": "code",
   "execution_count": 102,
   "id": "762a6cab",
   "metadata": {},
   "outputs": [
    {
     "data": {
      "text/plain": [
       "False"
      ]
     },
     "execution_count": 102,
     "metadata": {},
     "output_type": "execute_result"
    }
   ],
   "source": [
    "# For example:\n",
    "x == y"
   ]
  },
  {
   "cell_type": "code",
   "execution_count": 103,
   "id": "c3798359",
   "metadata": {},
   "outputs": [
    {
     "data": {
      "text/plain": [
       "True"
      ]
     },
     "execution_count": 103,
     "metadata": {},
     "output_type": "execute_result"
    }
   ],
   "source": [
    "x != y"
   ]
  },
  {
   "cell_type": "code",
   "execution_count": 104,
   "id": "8c4c6e93",
   "metadata": {},
   "outputs": [
    {
     "data": {
      "text/plain": [
       "False"
      ]
     },
     "execution_count": 104,
     "metadata": {},
     "output_type": "execute_result"
    }
   ],
   "source": [
    "1 > 4"
   ]
  },
  {
   "cell_type": "markdown",
   "id": "e2c7e825",
   "metadata": {},
   "source": [
    "## Basics of a Script: Indentation\n",
    "Python uses indents to indicate blocks of code – no brackets. This section discusses indentation on various control flow and compound statements such as \"If\" Statements, loops (e.g., \"for\" loops, \"while\" loops). Other compound statements include \"match\" statements, \"with\" statements and \"try\" statements. These statements, especially the loops are the backbone of automation.\n",
    "\n",
    "Documentation References:\n",
    "- https://docs.python.org/3/reference/compound_stmts.html\n",
    "- https://docs.python.org/3/tutorial/controlflow.html"
   ]
  },
  {
   "cell_type": "markdown",
   "id": "b66b0c06",
   "metadata": {},
   "source": [
    "## If Statements\n",
    "If statements are used for handling decisions in comparisons, defined conditions or actions.\n",
    "\n",
    "Documentation References:\n",
    "- https://docs.python.org/3/tutorial/controlflow.html#if-statements"
   ]
  },
  {
   "cell_type": "code",
   "execution_count": 105,
   "id": "050b9093",
   "metadata": {},
   "outputs": [
    {
     "name": "stdout",
     "output_type": "stream",
     "text": [
      "x is greater than y.\n"
     ]
    }
   ],
   "source": [
    "if x > y:\n",
    "    print(\"x is greater than y.\")\n",
    "# If true will print the statement."
   ]
  },
  {
   "cell_type": "code",
   "execution_count": 106,
   "id": "85b56bdd",
   "metadata": {},
   "outputs": [],
   "source": [
    "x = 4\n",
    "y = 26"
   ]
  },
  {
   "cell_type": "code",
   "execution_count": 107,
   "id": "7a42ece3",
   "metadata": {},
   "outputs": [
    {
     "name": "stdout",
     "output_type": "stream",
     "text": [
      "Yes it worked.\n"
     ]
    }
   ],
   "source": [
    "if x > y: # In this case depending on the values of x and y selected above meets the condition.\n",
    "    print(\"x is greater than y.\")\n",
    "    if x == 4: # Only enterst this statement if the previous if condition is met and this condition is met.\n",
    "        print('Yes, x equals 4') # Only prints if x > y and x == 4.\n",
    "    print('True x is greater than y') # Prints if x > y and either x == 4 or x != 4.\n",
    "    \n",
    "print('Yes it worked.') # This print function is outside of the two if statements. It always prints."
   ]
  },
  {
   "cell_type": "code",
   "execution_count": 108,
   "id": "4a79c218",
   "metadata": {},
   "outputs": [
    {
     "name": "stdout",
     "output_type": "stream",
     "text": [
      "The statement is true.\n"
     ]
    }
   ],
   "source": [
    "if 4 < 6:\n",
    "    print(\"The statement is true.\")"
   ]
  },
  {
   "cell_type": "code",
   "execution_count": 109,
   "id": "95bb5572",
   "metadata": {},
   "outputs": [
    {
     "ename": "IndentationError",
     "evalue": "unexpected indent (2454504753.py, line 5)",
     "output_type": "error",
     "traceback": [
      "\u001b[1;36m  Cell \u001b[1;32mIn[109], line 5\u001b[1;36m\u001b[0m\n\u001b[1;33m    print(\"Completed.\")\u001b[0m\n\u001b[1;37m    ^\u001b[0m\n\u001b[1;31mIndentationError\u001b[0m\u001b[1;31m:\u001b[0m unexpected indent\n"
     ]
    }
   ],
   "source": [
    "# Note in previous versions of Python Indexing errors where highlighted in red but code would still run.\n",
    "# In the latest release at the beginning of Fall 2024 Semester it gives an IndentationError\n",
    "if 4 < 6:\n",
    "   print(\"The statement is true.\")\n",
    "    print(\"Completed.\")"
   ]
  },
  {
   "cell_type": "code",
   "execution_count": 110,
   "id": "6500618e",
   "metadata": {},
   "outputs": [
    {
     "name": "stdout",
     "output_type": "stream",
     "text": [
      "x is NOT greater than y.\n"
     ]
    }
   ],
   "source": [
    "# In the previous examples if the condition is not met it continues with the code lines below.\n",
    "# In the if/else statement below prints one result else prints another result. \n",
    "if x > y:\n",
    "    print(\"x is greater than y.\")\n",
    "else:\n",
    "    print(\"x is NOT greater than y.\")"
   ]
  },
  {
   "cell_type": "markdown",
   "id": "bee690cd",
   "metadata": {},
   "source": [
    "## Loops\n",
    "There are two main types of loops:\n",
    "- For loops or For Statements: iterate thru a known number of iterable items.\n",
    "- While loops or While Statements: iterates until certain condition is met.\n",
    "\n",
    "When defining loops we tend to use i, j, and k for counters because in the first third generation language, FORTRAN, letters had to be used for certain variables, and certain types of number could only be assigned to certain letters. Integer values (whole numbers) could only be assigned to the letters from i (for integer) onwards. For this reason, people still use i, j, k for counting things (but not lowercase \"L\" -- it looks too much like a one).\n",
    "\n",
    "Documentation References:\n",
    "- https://docs.python.org/3/tutorial/controlflow.html#for-statements\n",
    "- https://docs.python.org/3/reference/compound_stmts.html#the-for-statement\n",
    "- https://docs.python.org/3/reference/compound_stmts.html#the-while-statement"
   ]
  },
  {
   "cell_type": "code",
   "execution_count": 111,
   "id": "08955b40",
   "metadata": {},
   "outputs": [
    {
     "name": "stdout",
     "output_type": "stream",
     "text": [
      "2 3\n",
      "4 5\n",
      "7 8\n",
      "All done.\n"
     ]
    }
   ],
   "source": [
    "# Indentation example\n",
    "x = 1\n",
    "y = 2\n",
    "for i in (1, 2, 3):\n",
    "    x = x + i\n",
    "    y = y + i\n",
    "    if x > y:\n",
    "        print('Something is wrong!')\n",
    "    print(x, y)\n",
    "print('All done.')"
   ]
  },
  {
   "cell_type": "markdown",
   "id": "ff58c282",
   "metadata": {},
   "source": [
    "# Modules, Packages, and Libraries\n",
    "[Return to Table of Contents](#Table-of-Contents)\n",
    "\n",
    "Python has various modules, packages and libraries (terms used interchangeably) that add further capabilities to the base Python functions. The modules are typically developed by a topic. Example of libraries for math and statistics include numpy and stats, libraries for data analysis include Pandas, libraries for data visualization include matplotlib and seaborn, machine learning libraries include scikit learn, and so on. In many cases some libraries may have overlap in the capabilities.\n",
    "\n",
    "Anaconda Distribution already includes installation of many Python modules, packages and libraries, especifically those related to data science. The full list can be found at https://docs.anaconda.com/anaconda/packages/pkg-docs/. Note that it varies per version of Anaconda Distribution.\n",
    "\n",
    "Functions most of the time are loaded at the beginning of a Jupyter Notebook. We will talk about this more later."
   ]
  },
  {
   "cell_type": "markdown",
   "id": "45a49abb",
   "metadata": {},
   "source": [
    "## Modules: Importing\n",
    "[Return to Table of Contents](#Table-of-Contents)"
   ]
  },
  {
   "cell_type": "code",
   "execution_count": 112,
   "id": "616b518f",
   "metadata": {},
   "outputs": [],
   "source": [
    "# Can also import specific functions from a library.\n",
    "from numpy import zeros # This imports the zeros function only.\n",
    "# Numpy Documentation: https://numpy.org/devdocs/user/whatisnumpy.html"
   ]
  },
  {
   "cell_type": "code",
   "execution_count": 113,
   "id": "527e55f4",
   "metadata": {},
   "outputs": [
    {
     "data": {
      "text/plain": [
       "array([0., 0., 0., 0., 0.])"
      ]
     },
     "execution_count": 113,
     "metadata": {},
     "output_type": "execute_result"
    }
   ],
   "source": [
    "zeros(5)"
   ]
  },
  {
   "cell_type": "code",
   "execution_count": 114,
   "id": "591a957f",
   "metadata": {},
   "outputs": [],
   "source": [
    "# To import and load a package you do the following.\n",
    "import numpy as np # Note that many packages are defined as the abbreviation in this case np.\n",
    "# The abbreviation can help save time in calling the library."
   ]
  },
  {
   "cell_type": "code",
   "execution_count": 115,
   "id": "7c57e8b0",
   "metadata": {},
   "outputs": [
    {
     "data": {
      "text/plain": [
       "array([0., 0., 0., 0., 0.])"
      ]
     },
     "execution_count": 115,
     "metadata": {},
     "output_type": "execute_result"
    }
   ],
   "source": [
    "np.zeros(5)"
   ]
  },
  {
   "cell_type": "code",
   "execution_count": 116,
   "id": "21102c9e",
   "metadata": {},
   "outputs": [],
   "source": [
    "# Some places may show the following when importing a module:\n",
    "#from numpy import * \n",
    "# This imports all functions from in a module and can be dangereous and can affect the namespaces."
   ]
  },
  {
   "cell_type": "code",
   "execution_count": 117,
   "id": "7d54f21a",
   "metadata": {},
   "outputs": [
    {
     "name": "stdout",
     "output_type": "stream",
     "text": [
      "2.1.3\n"
     ]
    }
   ],
   "source": [
    "print(np.__version__) # This prints the version of the np library."
   ]
  },
  {
   "cell_type": "code",
   "execution_count": 118,
   "id": "29fc98d2",
   "metadata": {},
   "outputs": [],
   "source": [
    "# Another example\n",
    "# https://docs.python.org/3/library/random.html\n",
    "import random\n",
    "#from random import randint"
   ]
  },
  {
   "cell_type": "code",
   "execution_count": 119,
   "id": "e75967c9",
   "metadata": {},
   "outputs": [
    {
     "data": {
      "text/plain": [
       "9"
      ]
     },
     "execution_count": 119,
     "metadata": {},
     "output_type": "execute_result"
    }
   ],
   "source": [
    "# Everytime cell runs creates a random integer between the given integers.\n",
    "random.randint(4, 10)"
   ]
  },
  {
   "cell_type": "markdown",
   "id": "977a4b7f",
   "metadata": {},
   "source": [
    "\"Randomness\" of a function can still be controlled witha  random seed or random state. The \"random seed\" parameter may be defined at the library levelwhcih is the case for \"random\" library or in other cases may be defined as a parameter of the function."
   ]
  },
  {
   "cell_type": "code",
   "execution_count": 120,
   "id": "c1df8090",
   "metadata": {},
   "outputs": [
    {
     "data": {
      "text/plain": [
       "5"
      ]
     },
     "execution_count": 120,
     "metadata": {},
     "output_type": "execute_result"
    }
   ],
   "source": [
    "# If we wanted the randint function to be repeatable we could use the \"random seed\".\n",
    "# In other random functions, there may be a parameter called \"random state\"\n",
    "\n",
    "# Even though it wouldn't be a true random it allows for reproducibility.\n",
    "random.seed(a=8, version=2)\n",
    "random.randint(4, 10)\n",
    "# If in the loop, could change the parameter \"a\" = i which would change the seed parameter a but allows reproducibility."
   ]
  },
  {
   "cell_type": "code",
   "execution_count": 121,
   "id": "c7b126d3",
   "metadata": {},
   "outputs": [
    {
     "data": {
      "text/plain": [
       "[1, 2, -6, -4, -9, -8, -6, -3, 6, -4]"
      ]
     },
     "execution_count": 121,
     "metadata": {},
     "output_type": "execute_result"
    }
   ],
   "source": [
    "# Creating a list of random integers:\n",
    "random_integers_list = []\n",
    "for i in range(10):\n",
    "    random_integers_list.append(random.randint(-10,10))\n",
    "\n",
    "random_integers_list"
   ]
  },
  {
   "cell_type": "markdown",
   "id": "ab3c431b",
   "metadata": {},
   "source": [
    "We can select elements from this list in various ways."
   ]
  },
  {
   "cell_type": "code",
   "execution_count": 122,
   "id": "1bb777b4",
   "metadata": {},
   "outputs": [
    {
     "data": {
      "text/plain": [
       "-6"
      ]
     },
     "execution_count": 122,
     "metadata": {},
     "output_type": "execute_result"
    }
   ],
   "source": [
    "# Selecting element 2. Note that element 0 is the first element.\n",
    "random_integers_list[2]"
   ]
  },
  {
   "cell_type": "code",
   "execution_count": 123,
   "id": "bc188179",
   "metadata": {},
   "outputs": [
    {
     "data": {
      "text/plain": [
       "-4"
      ]
     },
     "execution_count": 123,
     "metadata": {},
     "output_type": "execute_result"
    }
   ],
   "source": [
    "# Selecting element 1. Note that element 0 is the first element.\n",
    "random_integers_list[-1]"
   ]
  },
  {
   "cell_type": "markdown",
   "id": "0b728cf5",
   "metadata": {},
   "source": [
    "Starting in element 2, select every third element."
   ]
  },
  {
   "cell_type": "code",
   "execution_count": 124,
   "id": "2ea2dbae",
   "metadata": {},
   "outputs": [
    {
     "data": {
      "text/plain": [
       "[-6, -8, 6]"
      ]
     },
     "execution_count": 124,
     "metadata": {},
     "output_type": "execute_result"
    }
   ],
   "source": [
    "filtered_random_integers_list = []\n",
    "for i in range(len(random_integers_list)):\n",
    "    if (i-1) % 3 == 1:\n",
    "        filtered_random_integers_list.append(random_integers_list[i]) # Creates a list with the filtred numbers.\n",
    "filtered_random_integers_list # Show the final list."
   ]
  },
  {
   "cell_type": "code",
   "execution_count": 125,
   "id": "786b7878",
   "metadata": {},
   "outputs": [
    {
     "data": {
      "text/plain": [
       "[-6, -8, 6]"
      ]
     },
     "execution_count": 125,
     "metadata": {},
     "output_type": "execute_result"
    }
   ],
   "source": [
    "random_integers_list[2::3]"
   ]
  },
  {
   "cell_type": "markdown",
   "id": "a643108d",
   "metadata": {},
   "source": [
    "# Modules: Installing\n",
    "[Return to Table of Contents](#Table-of-Contents)"
   ]
  },
  {
   "cell_type": "markdown",
   "id": "90591423",
   "metadata": {},
   "source": [
    "Recall that you should have used Anaconda distribution to install Python and its [included data science packages or libraries](https://docs.anaconda.com/free/anaconda/reference/packages/pkg-docs/).\n",
    "\n",
    "Python also makes installing packages easy in general using conda on the command line. To open the command line do a search on the application \"Anaconda Prompt\" (i.e., command line, also called terminal).\n",
    "\n",
    "One method to install packages is to use the Anaconda Package index to install a package using the following line: \n",
    "- \"$conda install name_of_package\"\n",
    "\n",
    "One method to install packages is to use Pythons PIP package manager. To install a pakcage using pip can be done from the Jupyter Notebook code cell using the following line of code:\n",
    "- \"!pip install name_of_package\"\n",
    "\n",
    "PIP can also be used in the Anaconda Prompt command line. Conda access the Python index at Anaconda while the PIP access the index in the Python index site.\n",
    "\n",
    "<b>Example</b>\n",
    "\n",
    "Let's use the \"Names\" library as an example. To install \"names\" library Uncomment and run the cell below with \"!pip install names\". Names module documentation at: https://pypi.org/project/names/. After installing comment-out the line above. No need to run again the \"!pip install names\". Note that the asterisk* next to the cell means that the cell is running."
   ]
  },
  {
   "cell_type": "code",
   "execution_count": 126,
   "id": "1e775315",
   "metadata": {},
   "outputs": [],
   "source": [
    "# To install \"names\" library Uncomment and run this cell to install the Names library.\n",
    "#!pip install names\n",
    "\n",
    "# After installing comment out the line above."
   ]
  },
  {
   "cell_type": "code",
   "execution_count": 127,
   "id": "1c512b44",
   "metadata": {},
   "outputs": [
    {
     "ename": "ModuleNotFoundError",
     "evalue": "No module named 'names'",
     "output_type": "error",
     "traceback": [
      "\u001b[1;31m---------------------------------------------------------------------------\u001b[0m",
      "\u001b[1;31mModuleNotFoundError\u001b[0m                       Traceback (most recent call last)",
      "Cell \u001b[1;32mIn[127], line 1\u001b[0m\n\u001b[1;32m----> 1\u001b[0m \u001b[38;5;28;01mimport\u001b[39;00m\u001b[38;5;250m \u001b[39m\u001b[38;5;21;01mnames\u001b[39;00m\n",
      "\u001b[1;31mModuleNotFoundError\u001b[0m: No module named 'names'"
     ]
    }
   ],
   "source": [
    "import names # After installation only thing that needs to be done is Importing the module."
   ]
  },
  {
   "cell_type": "markdown",
   "id": "2f9f2a59-0437-4cbd-81da-af5387d719bb",
   "metadata": {},
   "source": [
    "If a Warning related names.exe installed in 'DIRECTOR' which is not on PATH. Follow the instructions to add the path ot the Environmental Variables:\n",
    "-  https://stackoverflow.com/questions/69547919/f2py-exe-is-somewhere-but-the-directory-isnt-on-path"
   ]
  },
  {
   "cell_type": "code",
   "execution_count": 128,
   "id": "ab49ca67",
   "metadata": {},
   "outputs": [
    {
     "ename": "NameError",
     "evalue": "name 'names' is not defined",
     "output_type": "error",
     "traceback": [
      "\u001b[1;31m---------------------------------------------------------------------------\u001b[0m",
      "\u001b[1;31mNameError\u001b[0m                                 Traceback (most recent call last)",
      "Cell \u001b[1;32mIn[128], line 1\u001b[0m\n\u001b[1;32m----> 1\u001b[0m \u001b[38;5;28mprint\u001b[39m(names\u001b[38;5;241m.\u001b[39m__version__)\n",
      "\u001b[1;31mNameError\u001b[0m: name 'names' is not defined"
     ]
    }
   ],
   "source": [
    "print(names.__version__) # After importing I can check the version of a module.\n",
    "# There are other ways to check the version."
   ]
  },
  {
   "cell_type": "code",
   "execution_count": 129,
   "id": "3eb22950",
   "metadata": {},
   "outputs": [
    {
     "ename": "NameError",
     "evalue": "name 'names' is not defined",
     "output_type": "error",
     "traceback": [
      "\u001b[1;31m---------------------------------------------------------------------------\u001b[0m",
      "\u001b[1;31mNameError\u001b[0m                                 Traceback (most recent call last)",
      "Cell \u001b[1;32mIn[129], line 2\u001b[0m\n\u001b[0;32m      1\u001b[0m \u001b[38;5;66;03m# After importing I can use functions from the names library.\u001b[39;00m\n\u001b[1;32m----> 2\u001b[0m names\u001b[38;5;241m.\u001b[39mget_full_name()\n",
      "\u001b[1;31mNameError\u001b[0m: name 'names' is not defined"
     ]
    }
   ],
   "source": [
    "# After importing I can use functions from the names library.\n",
    "names.get_full_name()"
   ]
  },
  {
   "cell_type": "markdown",
   "id": "8407cdda",
   "metadata": {},
   "source": [
    "# Alwasy remember to save your notebook!\n",
    "In this class we will discuss how to use many libraries and their functions for each of the workflows in datascience."
   ]
  },
  {
   "cell_type": "markdown",
   "id": "361c42e2",
   "metadata": {},
   "source": [
    "[Return to Table of Contents](#Table-of-Contents)\n",
    "# NOTEBOOK END"
   ]
  },
  {
   "cell_type": "code",
   "execution_count": null,
   "id": "a82b998b",
   "metadata": {},
   "outputs": [],
   "source": []
  },
  {
   "cell_type": "code",
   "execution_count": null,
   "id": "c0eae9eb",
   "metadata": {},
   "outputs": [],
   "source": []
  },
  {
   "cell_type": "code",
   "execution_count": null,
   "id": "5a44d274",
   "metadata": {},
   "outputs": [],
   "source": []
  }
 ],
 "metadata": {
  "kernelspec": {
   "display_name": "Python [conda env:base] *",
   "language": "python",
   "name": "conda-base-py"
  },
  "language_info": {
   "codemirror_mode": {
    "name": "ipython",
    "version": 3
   },
   "file_extension": ".py",
   "mimetype": "text/x-python",
   "name": "python",
   "nbconvert_exporter": "python",
   "pygments_lexer": "ipython3",
   "version": "3.13.5"
  }
 },
 "nbformat": 4,
 "nbformat_minor": 5
}
